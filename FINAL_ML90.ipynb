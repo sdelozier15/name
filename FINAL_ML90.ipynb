{
 "cells": [
  {
   "cell_type": "code",
   "execution_count": 1,
   "metadata": {},
   "outputs": [],
   "source": [
    "from sklearn import tree\n",
    "import pandas as pd\n",
    "import os"
   ]
  },
  {
   "cell_type": "code",
   "execution_count": 102,
   "metadata": {},
   "outputs": [
    {
     "data": {
      "text/plain": [
       "132"
      ]
     },
     "execution_count": 102,
     "metadata": {},
     "output_type": "execute_result"
    }
   ],
   "source": [
    "# path4 = \"ML2_131.csv\"\n",
    "# w2_gdp = pd.read_csv(path4)\n",
    "# w_gdp = w2_gdp.drop(columns = {'Unnamed: 0', 'Code', 'Country or region'})\n",
    "# # 'pedmort_2016', 'sanit_2015', 'sanit_3mean'\n",
    "\n",
    "path = \"scores_4ML.csv\"\n",
    "df = pd.read_csv(path)\n",
    "sanit_ped = df.drop(columns = {'Unnamed: 0', 'Unnamed: 0.1', 'nat_dis_23mean', 'nat_dis2017', 'nat_dis_3mean', 'maln_12mean', 'maln_3mean', 'maln_2016',\n",
    "       'homoc_2017', 'homoc_3mean', 'homoc_23mean'})\n",
    "#unh_df.isna().sum()\n",
    "\n",
    "path2 = \"democ_168_countries.csv\"\n",
    "democ = pd.read_csv(path2).rename(columns = {\"2018\": \"democ_2018\"})\n",
    "\n",
    "path3 = \"lat_countries.csv\"\n",
    "lat = pd.read_csv(path3)\n",
    "\n",
    "\n",
    "\n",
    "len(sanit_ped)"
   ]
  },
  {
   "cell_type": "code",
   "execution_count": 115,
   "metadata": {},
   "outputs": [
    {
     "data": {
      "text/html": [
       "<div>\n",
       "<style scoped>\n",
       "    .dataframe tbody tr th:only-of-type {\n",
       "        vertical-align: middle;\n",
       "    }\n",
       "\n",
       "    .dataframe tbody tr th {\n",
       "        vertical-align: top;\n",
       "    }\n",
       "\n",
       "    .dataframe thead th {\n",
       "        text-align: right;\n",
       "    }\n",
       "</style>\n",
       "<table border=\"1\" class=\"dataframe\">\n",
       "  <thead>\n",
       "    <tr style=\"text-align: right;\">\n",
       "      <th></th>\n",
       "      <th>pedmort_2016</th>\n",
       "      <th>pedmort_53mean</th>\n",
       "      <th>pedmort_3mean</th>\n",
       "      <th>Code</th>\n",
       "      <th>sanit_2015</th>\n",
       "      <th>sanit_21mean</th>\n",
       "      <th>sanit_3mean</th>\n",
       "      <th>Country or region</th>\n",
       "      <th>Outcome</th>\n",
       "      <th>democ_2018</th>\n",
       "      <th>latitude</th>\n",
       "      <th>within_tropics</th>\n",
       "    </tr>\n",
       "  </thead>\n",
       "  <tbody>\n",
       "    <tr>\n",
       "      <th>0</th>\n",
       "      <td>6.79</td>\n",
       "      <td>20.641667</td>\n",
       "      <td>7.316667</td>\n",
       "      <td>AFG</td>\n",
       "      <td>31.9</td>\n",
       "      <td>24.266667</td>\n",
       "      <td>31.133333</td>\n",
       "      <td>Afghanistan</td>\n",
       "      <td>0</td>\n",
       "      <td>0.0</td>\n",
       "      <td>33.939110</td>\n",
       "      <td>0</td>\n",
       "    </tr>\n",
       "    <tr>\n",
       "      <th>1</th>\n",
       "      <td>0.88</td>\n",
       "      <td>3.666389</td>\n",
       "      <td>0.940000</td>\n",
       "      <td>ALB</td>\n",
       "      <td>93.2</td>\n",
       "      <td>84.009091</td>\n",
       "      <td>92.666667</td>\n",
       "      <td>Albania</td>\n",
       "      <td>0</td>\n",
       "      <td>1.0</td>\n",
       "      <td>41.153332</td>\n",
       "      <td>0</td>\n",
       "    </tr>\n",
       "    <tr>\n",
       "      <th>2</th>\n",
       "      <td>1.04</td>\n",
       "      <td>3.361333</td>\n",
       "      <td>1.143333</td>\n",
       "      <td>ARG</td>\n",
       "      <td>96.4</td>\n",
       "      <td>91.477273</td>\n",
       "      <td>95.800000</td>\n",
       "      <td>Argentina</td>\n",
       "      <td>1</td>\n",
       "      <td>1.0</td>\n",
       "      <td>-38.416097</td>\n",
       "      <td>1</td>\n",
       "    </tr>\n",
       "    <tr>\n",
       "      <th>3</th>\n",
       "      <td>1.26</td>\n",
       "      <td>4.465526</td>\n",
       "      <td>1.400000</td>\n",
       "      <td>ARM</td>\n",
       "      <td>89.5</td>\n",
       "      <td>89.435000</td>\n",
       "      <td>89.500000</td>\n",
       "      <td>Armenia</td>\n",
       "      <td>0</td>\n",
       "      <td>1.0</td>\n",
       "      <td>40.069099</td>\n",
       "      <td>0</td>\n",
       "    </tr>\n",
       "    <tr>\n",
       "      <th>4</th>\n",
       "      <td>0.35</td>\n",
       "      <td>1.239444</td>\n",
       "      <td>0.383333</td>\n",
       "      <td>AUS</td>\n",
       "      <td>100.0</td>\n",
       "      <td>100.000000</td>\n",
       "      <td>100.000000</td>\n",
       "      <td>Australia</td>\n",
       "      <td>1</td>\n",
       "      <td>1.0</td>\n",
       "      <td>-25.274398</td>\n",
       "      <td>1</td>\n",
       "    </tr>\n",
       "  </tbody>\n",
       "</table>\n",
       "</div>"
      ],
      "text/plain": [
       "   pedmort_2016  pedmort_53mean  pedmort_3mean Code  sanit_2015  sanit_21mean  \\\n",
       "0          6.79       20.641667       7.316667  AFG        31.9     24.266667   \n",
       "1          0.88        3.666389       0.940000  ALB        93.2     84.009091   \n",
       "2          1.04        3.361333       1.143333  ARG        96.4     91.477273   \n",
       "3          1.26        4.465526       1.400000  ARM        89.5     89.435000   \n",
       "4          0.35        1.239444       0.383333  AUS       100.0    100.000000   \n",
       "\n",
       "   sanit_3mean Country or region  Outcome  democ_2018   latitude  \\\n",
       "0    31.133333       Afghanistan        0         0.0  33.939110   \n",
       "1    92.666667           Albania        0         1.0  41.153332   \n",
       "2    95.800000         Argentina        1         1.0 -38.416097   \n",
       "3    89.500000           Armenia        0         1.0  40.069099   \n",
       "4   100.000000         Australia        1         1.0 -25.274398   \n",
       "\n",
       "   within_tropics  \n",
       "0               0  \n",
       "1               0  \n",
       "2               1  \n",
       "3               0  \n",
       "4               1  "
      ]
     },
     "execution_count": 115,
     "metadata": {},
     "output_type": "execute_result"
    }
   ],
   "source": [
    "sanit_ped_democ = sanit_ped.merge(democ, on='Code', how='inner')\n",
    "sanit_ped_democ_lat = sanit_ped_democ.merge(lat, on='Country or region', how='inner') ##127\n",
    "sanit_ped_democ_lat.head()"
   ]
  },
  {
   "cell_type": "code",
   "execution_count": 124,
   "metadata": {},
   "outputs": [],
   "source": [
    "target = sanit_ped_democ_lat[\"Outcome\"]\n",
    "target_names = [\"negative\", \"positive\"]"
   ]
  },
  {
   "cell_type": "code",
   "execution_count": 125,
   "metadata": {},
   "outputs": [],
   "source": [
    "data3 = sanit_ped_democ_lat.drop([\"Outcome\", \"Code\", 'Country or region'], axis=1)\n",
    "feature_names = data3.columns"
   ]
  },
  {
   "cell_type": "code",
   "execution_count": 126,
   "metadata": {},
   "outputs": [],
   "source": [
    "from sklearn.model_selection import train_test_split\n",
    "X_train, X_test, y_train, y_test = train_test_split(data3, target, random_state=42) ##_ means available only when running sk learn"
   ]
  },
  {
   "cell_type": "code",
   "execution_count": 127,
   "metadata": {},
   "outputs": [
    {
     "data": {
      "text/plain": [
       "0.8125"
      ]
     },
     "execution_count": 127,
     "metadata": {},
     "output_type": "execute_result"
    }
   ],
   "source": [
    "clf = tree.DecisionTreeClassifier()\n",
    "clf = clf.fit(X_train, y_train)\n",
    "clf.score(X_test, y_test)"
   ]
  },
  {
   "cell_type": "code",
   "execution_count": 128,
   "metadata": {},
   "outputs": [
    {
     "data": {
      "text/plain": [
       "0.8125"
      ]
     },
     "execution_count": 128,
     "metadata": {},
     "output_type": "execute_result"
    }
   ],
   "source": [
    "clf = tree.DecisionTreeClassifier()\n",
    "clf = clf.fit(X_train, y_train)\n",
    "clf.score(X_test, y_test)"
   ]
  },
  {
   "cell_type": "code",
   "execution_count": 129,
   "metadata": {},
   "outputs": [
    {
     "data": {
      "text/plain": [
       "0.90625"
      ]
     },
     "execution_count": 129,
     "metadata": {},
     "output_type": "execute_result"
    }
   ],
   "source": [
    "from sklearn.ensemble import RandomForestClassifier\n",
    "rf = RandomForestClassifier(n_estimators=200)\n",
    "rf = rf.fit(X_train, y_train)\n",
    "rf.score(X_test, y_test)"
   ]
  },
  {
   "cell_type": "code",
   "execution_count": 130,
   "metadata": {},
   "outputs": [
    {
     "data": {
      "text/plain": [
       "[(0.18641343941635138, 'sanit_2015'),\n",
       " (0.17456924978228294, 'pedmort_2016'),\n",
       " (0.15716273028565034, 'pedmort_3mean'),\n",
       " (0.15181771956828233, 'sanit_3mean'),\n",
       " (0.10725395783211139, 'sanit_21mean'),\n",
       " (0.08167987293877027, 'latitude'),\n",
       " (0.07055100282087444, 'pedmort_53mean'),\n",
       " (0.036414117308028064, 'democ_2018'),\n",
       " (0.034137910047649, 'within_tropics')]"
      ]
     },
     "execution_count": 130,
     "metadata": {},
     "output_type": "execute_result"
    }
   ],
   "source": [
    "sorted(zip(rf.feature_importances_, feature_names), reverse=True)"
   ]
  },
  {
   "cell_type": "code",
   "execution_count": 131,
   "metadata": {},
   "outputs": [],
   "source": [
    "sanit_ped_democ_lat.to_csv(\"FINAL_ML.csv\")"
   ]
  },
  {
   "cell_type": "code",
   "execution_count": null,
   "metadata": {},
   "outputs": [],
   "source": []
  }
 ],
 "metadata": {
  "kernelspec": {
   "display_name": "Python 3",
   "language": "python",
   "name": "python3"
  },
  "language_info": {
   "codemirror_mode": {
    "name": "ipython",
    "version": 3
   },
   "file_extension": ".py",
   "mimetype": "text/x-python",
   "name": "python",
   "nbconvert_exporter": "python",
   "pygments_lexer": "ipython3",
   "version": "3.7.4"
  }
 },
 "nbformat": 4,
 "nbformat_minor": 4
}
